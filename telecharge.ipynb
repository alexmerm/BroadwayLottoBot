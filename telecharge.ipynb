{
 "cells": [
  {
   "cell_type": "code",
   "execution_count": 1,
   "metadata": {},
   "outputs": [],
   "source": [
    "START_PAGE = \"https://my.socialtoaster.com/st/lottery_select/?key=BROADWAY&source=iframe\""
   ]
  },
  {
   "cell_type": "code",
   "execution_count": 90,
   "metadata": {},
   "outputs": [],
   "source": [
    "from selenium import webdriver\n",
    "from selenium.webdriver.common.by import By\n",
    "from selenium.webdriver.common.action_chains import ActionChains\n",
    "from selenium.webdriver.support import expected_conditions as EC\n",
    "from selenium.webdriver.support.wait import WebDriverWait\n",
    "from selenium.webdriver.support.ui import Select\n"
   ]
  },
  {
   "cell_type": "code",
   "execution_count": 3,
   "metadata": {},
   "outputs": [
    {
     "name": "stdout",
     "output_type": "stream",
     "text": [
      "https://my.socialtoaster.com/st/lottery_select/?key=BROADWAY&source=iframe\n"
     ]
    }
   ],
   "source": [
    "print(START_PAGE)"
   ]
  },
  {
   "cell_type": "code",
   "execution_count": 4,
   "metadata": {},
   "outputs": [],
   "source": [
    "SELENIUM_URL = \"http://localhost:4444/wd/hub\"\n",
    "# driver = webdriver.Chrome()\n",
    "chrome_options = webdriver.ChromeOptions()\n",
    "driver = webdriver.Remote(command_executor=SELENIUM_URL,options=chrome_options)"
   ]
  },
  {
   "cell_type": "code",
   "execution_count": 5,
   "metadata": {},
   "outputs": [],
   "source": [
    "driver.get(START_PAGE)"
   ]
  },
  {
   "cell_type": "code",
   "execution_count": 6,
   "metadata": {},
   "outputs": [
    {
     "name": "stdout",
     "output_type": "stream",
     "text": [
      "button here\n"
     ]
    }
   ],
   "source": [
    "facebook_button = WebDriverWait(driver, 10).until(EC.element_to_be_clickable((By.ID,\"st_campaign_social_media_button_long_facebook\")))\n",
    "print(\"button here\")"
   ]
  },
  {
   "cell_type": "code",
   "execution_count": 7,
   "metadata": {},
   "outputs": [],
   "source": [
    "#TODO: WebDriverWait for button to SHow up \n",
    "#facebook_button = driver.find_element(By.ID,\"st_campaign_social_media_button_long_facebook\" )"
   ]
  },
  {
   "cell_type": "code",
   "execution_count": 8,
   "metadata": {},
   "outputs": [],
   "source": [
    "facebook_button.click()"
   ]
  },
  {
   "cell_type": "code",
   "execution_count": 9,
   "metadata": {},
   "outputs": [
    {
     "data": {
      "text/plain": [
       "['E692E14377885670507E7799E2154C3E']"
      ]
     },
     "execution_count": 9,
     "metadata": {},
     "output_type": "execute_result"
    }
   ],
   "source": [
    "driver.window_handles"
   ]
  },
  {
   "cell_type": "code",
   "execution_count": 10,
   "metadata": {},
   "outputs": [
    {
     "data": {
      "text/plain": [
       "'Become a User | The Shubert Organization, Inc'"
      ]
     },
     "execution_count": 10,
     "metadata": {},
     "output_type": "execute_result"
    }
   ],
   "source": [
    "driver.title"
   ]
  },
  {
   "cell_type": "code",
   "execution_count": 11,
   "metadata": {},
   "outputs": [
    {
     "name": "stdout",
     "output_type": "stream",
     "text": [
      "2\n",
      "Become a User | The Shubert Organization, Inc\n",
      "Facebook\n"
     ]
    }
   ],
   "source": [
    "#Wait Until 2 windows open\n",
    "# while(len(driver.window_handles) == 1):\n",
    "#     continue\n",
    "WebDriverWait(driver,10).until(EC.number_of_windows_to_be(2))\n",
    "\n",
    "#To Future Proof, maybe sleep a second here just to make sure title loads, or change the below for loop to infitnite loop switching btw windows\n",
    "#select facebook\n",
    "\n",
    "print(len(driver.window_handles))\n",
    "for handle in driver.window_handles:\n",
    "    if(driver.title == \"Facebook\"):\n",
    "        break\n",
    "    driver.switch_to.window(handle)\n",
    "    print(driver.title)"
   ]
  },
  {
   "cell_type": "code",
   "execution_count": 12,
   "metadata": {},
   "outputs": [
    {
     "data": {
      "text/plain": [
       "'Facebook'"
      ]
     },
     "execution_count": 12,
     "metadata": {},
     "output_type": "execute_result"
    }
   ],
   "source": [
    "driver.title"
   ]
  },
  {
   "cell_type": "code",
   "execution_count": 13,
   "metadata": {},
   "outputs": [],
   "source": [
    "email_field = WebDriverWait(driver,10).until(EC.presence_of_element_located((By.ID,\"email\")))\n"
   ]
  },
  {
   "cell_type": "code",
   "execution_count": 14,
   "metadata": {},
   "outputs": [],
   "source": [
    "EMAIL = \"alex.kaish+selenium@gmail.com\"\n",
    "PASSWORD = \"WKN2hrz.yap1bku_fcf\""
   ]
  },
  {
   "cell_type": "code",
   "execution_count": 15,
   "metadata": {},
   "outputs": [],
   "source": [
    "ActionChains(driver).move_to_element(email_field).click().send_keys(EMAIL).perform()"
   ]
  },
  {
   "cell_type": "code",
   "execution_count": 16,
   "metadata": {},
   "outputs": [],
   "source": [
    "password_field = driver.find_element(By.ID, \"pass\")"
   ]
  },
  {
   "cell_type": "code",
   "execution_count": 17,
   "metadata": {},
   "outputs": [],
   "source": [
    "ActionChains(driver).move_to_element(password_field).click().send_keys(PASSWORD).perform()"
   ]
  },
  {
   "cell_type": "code",
   "execution_count": 18,
   "metadata": {},
   "outputs": [],
   "source": [
    "loginButton = driver.find_element(By.ID,\"loginbutton\")"
   ]
  },
  {
   "cell_type": "code",
   "execution_count": 19,
   "metadata": {},
   "outputs": [],
   "source": [
    "ActionChains(driver).move_to_element(loginButton).click().perform()"
   ]
  },
  {
   "cell_type": "code",
   "execution_count": 20,
   "metadata": {},
   "outputs": [],
   "source": [
    "#ONCE THRU FB: Switch back to main window\n",
    "WebDriverWait(driver,10).until(EC.number_of_windows_to_be(1))\n",
    "\n",
    "driver.switch_to.window(driver.window_handles[0])"
   ]
  },
  {
   "cell_type": "code",
   "execution_count": 21,
   "metadata": {},
   "outputs": [],
   "source": [
    "#ONCE THROUGH ALL EXITING THINGS\n",
    "#Get Lottery Tab from top bar ( correct lottery button)\n",
    "lottery_button = WebDriverWait(driver,10).until(EC.element_to_be_clickable((By.XPATH,\"//a[@href='/st/lottery_select/?key=BROADWAY&source=iframe']\")))"
   ]
  },
  {
   "cell_type": "code",
   "execution_count": 22,
   "metadata": {},
   "outputs": [],
   "source": [
    "ActionChains(driver).move_to_element(lottery_button).click().perform()"
   ]
  },
  {
   "cell_type": "code",
   "execution_count": 23,
   "metadata": {},
   "outputs": [],
   "source": [
    "#Click the lower lottery button as opposed to results button\n",
    "lottery_events_button = WebDriverWait(driver,10).until(EC.element_to_be_clickable((By.XPATH,\"//a[@data-section='lottery_block_events']\")))\n",
    "ActionChains(driver).move_to_element(lottery_events_button).click().perform()"
   ]
  },
  {
   "cell_type": "code",
   "execution_count": 48,
   "metadata": {},
   "outputs": [],
   "source": [
    "SELENIUM_URL = \"http://localhost:4444/wd/hub\"\n",
    "# driver = webdriver.Chrome()\n",
    "chrome_options = webdriver.ChromeOptions()\n",
    "driver = webdriver.Remote(command_executor=SELENIUM_URL,options=chrome_options)\n"
   ]
  },
  {
   "cell_type": "code",
   "execution_count": 49,
   "metadata": {},
   "outputs": [],
   "source": [
    "TEST_URL = \"file:///mnt/offlinePages/Become a User The Shubert Organization, Inc - LotteryPage.html\"\n",
    "\n",
    "driver.get(TEST_URL)"
   ]
  },
  {
   "cell_type": "code",
   "execution_count": 50,
   "metadata": {},
   "outputs": [],
   "source": [
    "showDivs = driver.find_elements(By.XPATH,\"//div[@class='lottery_show st_style_page_text_border']\")\n",
    "len(showDivs)\n",
    "if(len(showDivs) == 0) :\n",
    "    print(\"now shows\")\n",
    "    exit(0)\n"
   ]
  },
  {
   "cell_type": "code",
   "execution_count": 51,
   "metadata": {},
   "outputs": [],
   "source": [
    "#Get Shows\n",
    "#Shows = Show_title : []\n",
    "#TODO : change this to handle multiple shows \n",
    "shows = {}\n",
    "showDivs = driver.find_elements(By.XPATH,\"//div[@class='lottery_show st_style_page_text_border']\")\n",
    "for div in showDivs:\n",
    "    title_block = div.find_element(By.CLASS_NAME,\"lottery_show_title\")\n",
    "    title = title_block.text\n",
    "    if(title != ''):\n",
    "        shows[title] = div"
   ]
  },
  {
   "cell_type": "code",
   "execution_count": 38,
   "metadata": {},
   "outputs": [],
   "source": [
    "from pprint import pprint"
   ]
  },
  {
   "cell_type": "code",
   "execution_count": 43,
   "metadata": {},
   "outputs": [
    {
     "name": "stdout",
     "output_type": "stream",
     "text": [
      "{'A BEAUTIFUL NOISE: THE NEIL DIAMOND MUSICAL': <selenium.webdriver.remote.webelement.WebElement (session=\"711f07047065f8884632a4d85597e220\", element=\"92e98d56-dce6-4f78-8c85-c84a48a47237\")>,\n",
      " \"ANDREW LLOYD WEBBER'S BAD CINDERELLA\": <selenium.webdriver.remote.webelement.WebElement (session=\"711f07047065f8884632a4d85597e220\", element=\"65164463-14e4-4fbf-93aa-3d3e296451f9\")>,\n",
      " \"ANTHONY RAPP'S WITHOUT YOU\": <selenium.webdriver.remote.webelement.WebElement (session=\"711f07047065f8884632a4d85597e220\", element=\"6dc55864-e2a9-4727-8701-f81c0b300f46\")>,\n",
      " \"BOB FOSSE'S DANCIN'\": <selenium.webdriver.remote.webelement.WebElement (session=\"711f07047065f8884632a4d85597e220\", element=\"c93c8b8b-235d-4eab-a656-fedd6552af35\")>,\n",
      " 'KIMBERLY AKIMBO': <selenium.webdriver.remote.webelement.WebElement (session=\"711f07047065f8884632a4d85597e220\", element=\"ee694939-6b20-47fc-a713-843b08aa3bd9\")>,\n",
      " 'LEOPOLDSTADT': <selenium.webdriver.remote.webelement.WebElement (session=\"711f07047065f8884632a4d85597e220\", element=\"e3cf4cdb-0754-41e0-bfaf-829b7c83b59c\")>,\n",
      " 'LIFE OF PI': <selenium.webdriver.remote.webelement.WebElement (session=\"711f07047065f8884632a4d85597e220\", element=\"a5a20d65-41bb-466b-afbb-5d42b0801db6\")>,\n",
      " 'PARADE': <selenium.webdriver.remote.webelement.WebElement (session=\"711f07047065f8884632a4d85597e220\", element=\"e1cc067c-c9ca-4f8c-95f3-679fe6357473\")>,\n",
      " 'PETER PAN GOES WRONG': <selenium.webdriver.remote.webelement.WebElement (session=\"711f07047065f8884632a4d85597e220\", element=\"8e9ff953-124f-4f7d-b064-c1bfe2a36cd2\")>,\n",
      " 'SOME LIKE IT HOT': <selenium.webdriver.remote.webelement.WebElement (session=\"711f07047065f8884632a4d85597e220\", element=\"8c2bbfae-0d46-405a-bc33-b9fbc800ea1a\")>,\n",
      " 'THE PLAY THAT GOES WRONG': <selenium.webdriver.remote.webelement.WebElement (session=\"711f07047065f8884632a4d85597e220\", element=\"de7a46d1-790d-453e-ba80-e1485898f392\")>,\n",
      " 'THE VERY HUNGRY CATERPILLAR SHOW': <selenium.webdriver.remote.webelement.WebElement (session=\"711f07047065f8884632a4d85597e220\", element=\"f8b60b03-6e19-40d6-9cc1-9dce1b1fbcd8\")>,\n",
      " 'TITANIQUE': <selenium.webdriver.remote.webelement.WebElement (session=\"711f07047065f8884632a4d85597e220\", element=\"6b87e003-bee0-4fbe-af65-5967b45c6f76\")>}\n"
     ]
    }
   ],
   "source": [
    "pprint(shows)"
   ]
  },
  {
   "cell_type": "code",
   "execution_count": 81,
   "metadata": {},
   "outputs": [],
   "source": [
    "show = shows[\"ANTHONY RAPP'S WITHOUT YOU\"]\n",
    "show = shows[\"KIMBERLY AKIMBO\"]"
   ]
  },
  {
   "cell_type": "code",
   "execution_count": 82,
   "metadata": {},
   "outputs": [],
   "source": [
    "#1st : Check for enterested text\n",
    "entered_text = show.find_element(By.CLASS_NAME,\"entered-text\")\n",
    "if (entered_text.is_displayed()):\n",
    "    print(\"already entered\")\n",
    "    #exit()"
   ]
  },
  {
   "cell_type": "code",
   "execution_count": 94,
   "metadata": {},
   "outputs": [
    {
     "name": "stdout",
     "output_type": "stream",
     "text": [
      "17883\n",
      "$45.00\n"
     ]
    }
   ],
   "source": [
    "#GET Show id\n",
    "#1st: Enter Button\n",
    "import re\n",
    "#Get Event ID\n",
    "onclick = show.get_attribute('onclick')\n",
    "event_id = re.search(r'\\d+', onclick).group()\n",
    "print(event_id)\n",
    "price = show.find_element(By.CLASS_NAME,\"lottery_show_price_discount\").text\n",
    "print(price)\n",
    "TICKETNO = 2\n",
    "ticketSelect = Select(show.find_element(By.ID,\"tickets_\" + event_id))\n",
    "ticketSelect.select_by_value(str(TICKETNO))\n",
    "enter_button = show.find_element(By.LINK_TEXT,\"ENTER\")\n",
    "\n"
   ]
  },
  {
   "cell_type": "code",
   "execution_count": 97,
   "metadata": {},
   "outputs": [],
   "source": [
    "driver.execute_script(\"arguments[0].scrollIntoView();\",enter_button)\n",
    "driver.execute_script(\"window.scrollBy(0,-100)\", \"\")\n",
    "ActionChains(driver).move_to_element(enter_button).click().perform()\n"
   ]
  },
  {
   "cell_type": "code",
   "execution_count": 78,
   "metadata": {},
   "outputs": [
    {
     "data": {
      "text/plain": [
       "True"
      ]
     },
     "execution_count": 78,
     "metadata": {},
     "output_type": "execute_result"
    }
   ],
   "source": [
    "entered_text.is_displayed()"
   ]
  },
  {
   "cell_type": "code",
   "execution_count": 101,
   "metadata": {},
   "outputs": [
    {
     "ename": "InvalidSessionIdException",
     "evalue": "Message: Unable to execute request for an existing session: Unable to find session with ID: 069bff7250e5f580d6e45cba049755f6\nBuild info: version: '4.8.3', revision: 'b19b418e60'\nSystem info: os.name: 'Linux', os.arch: 'aarch64', os.version: '5.15.49-linuxkit', java.version: '11.0.18'\nDriver info: driver.version: unknown\n",
     "output_type": "error",
     "traceback": [
      "\u001b[0;31m---------------------------------------------------------------------------\u001b[0m",
      "\u001b[0;31mInvalidSessionIdException\u001b[0m                 Traceback (most recent call last)",
      "Cell \u001b[0;32mIn[101], line 1\u001b[0m\n\u001b[0;32m----> 1\u001b[0m driver\u001b[39m.\u001b[39;49mcurrent_url\n",
      "File \u001b[0;32m~/.asdf/installs/python/3.11.2/lib/python3.11/site-packages/selenium/webdriver/remote/webdriver.py:530\u001b[0m, in \u001b[0;36mWebDriver.current_url\u001b[0;34m(self)\u001b[0m\n\u001b[1;32m    521\u001b[0m \u001b[39m@property\u001b[39m\n\u001b[1;32m    522\u001b[0m \u001b[39mdef\u001b[39;00m \u001b[39mcurrent_url\u001b[39m(\u001b[39mself\u001b[39m) \u001b[39m-\u001b[39m\u001b[39m>\u001b[39m \u001b[39mstr\u001b[39m:\n\u001b[1;32m    523\u001b[0m \u001b[39m    \u001b[39m\u001b[39m\"\"\"Gets the URL of the current page.\u001b[39;00m\n\u001b[1;32m    524\u001b[0m \n\u001b[1;32m    525\u001b[0m \u001b[39m    :Usage:\u001b[39;00m\n\u001b[0;32m   (...)\u001b[0m\n\u001b[1;32m    528\u001b[0m \u001b[39m            driver.current_url\u001b[39;00m\n\u001b[1;32m    529\u001b[0m \u001b[39m    \"\"\"\u001b[39;00m\n\u001b[0;32m--> 530\u001b[0m     \u001b[39mreturn\u001b[39;00m \u001b[39mself\u001b[39;49m\u001b[39m.\u001b[39;49mexecute(Command\u001b[39m.\u001b[39;49mGET_CURRENT_URL)[\u001b[39m\"\u001b[39m\u001b[39mvalue\u001b[39m\u001b[39m\"\u001b[39m]\n",
      "File \u001b[0;32m~/.asdf/installs/python/3.11.2/lib/python3.11/site-packages/selenium/webdriver/remote/webdriver.py:440\u001b[0m, in \u001b[0;36mWebDriver.execute\u001b[0;34m(self, driver_command, params)\u001b[0m\n\u001b[1;32m    438\u001b[0m response \u001b[39m=\u001b[39m \u001b[39mself\u001b[39m\u001b[39m.\u001b[39mcommand_executor\u001b[39m.\u001b[39mexecute(driver_command, params)\n\u001b[1;32m    439\u001b[0m \u001b[39mif\u001b[39;00m response:\n\u001b[0;32m--> 440\u001b[0m     \u001b[39mself\u001b[39;49m\u001b[39m.\u001b[39;49merror_handler\u001b[39m.\u001b[39;49mcheck_response(response)\n\u001b[1;32m    441\u001b[0m     response[\u001b[39m\"\u001b[39m\u001b[39mvalue\u001b[39m\u001b[39m\"\u001b[39m] \u001b[39m=\u001b[39m \u001b[39mself\u001b[39m\u001b[39m.\u001b[39m_unwrap_value(response\u001b[39m.\u001b[39mget(\u001b[39m\"\u001b[39m\u001b[39mvalue\u001b[39m\u001b[39m\"\u001b[39m, \u001b[39mNone\u001b[39;00m))\n\u001b[1;32m    442\u001b[0m     \u001b[39mreturn\u001b[39;00m response\n",
      "File \u001b[0;32m~/.asdf/installs/python/3.11.2/lib/python3.11/site-packages/selenium/webdriver/remote/errorhandler.py:245\u001b[0m, in \u001b[0;36mErrorHandler.check_response\u001b[0;34m(self, response)\u001b[0m\n\u001b[1;32m    243\u001b[0m         alert_text \u001b[39m=\u001b[39m value[\u001b[39m\"\u001b[39m\u001b[39malert\u001b[39m\u001b[39m\"\u001b[39m]\u001b[39m.\u001b[39mget(\u001b[39m\"\u001b[39m\u001b[39mtext\u001b[39m\u001b[39m\"\u001b[39m)\n\u001b[1;32m    244\u001b[0m     \u001b[39mraise\u001b[39;00m exception_class(message, screen, stacktrace, alert_text)  \u001b[39m# type: ignore[call-arg]  # mypy is not smart enough here\u001b[39;00m\n\u001b[0;32m--> 245\u001b[0m \u001b[39mraise\u001b[39;00m exception_class(message, screen, stacktrace)\n",
      "\u001b[0;31mInvalidSessionIdException\u001b[0m: Message: Unable to execute request for an existing session: Unable to find session with ID: 069bff7250e5f580d6e45cba049755f6\nBuild info: version: '4.8.3', revision: 'b19b418e60'\nSystem info: os.name: 'Linux', os.arch: 'aarch64', os.version: '5.15.49-linuxkit', java.version: '11.0.18'\nDriver info: driver.version: unknown\n"
     ]
    }
   ],
   "source": [
    "driver.current_url"
   ]
  },
  {
   "cell_type": "code",
   "execution_count": 102,
   "metadata": {},
   "outputs": [],
   "source": [
    "def driverIsAlive(driver):\n",
    "    if(driver == None):\n",
    "        return False\n",
    "    try:\n",
    "        driver.current_url\n",
    "        return True\n",
    "    except: \n",
    "        return False"
   ]
  },
  {
   "cell_type": "code",
   "execution_count": 110,
   "metadata": {},
   "outputs": [
    {
     "name": "stdout",
     "output_type": "stream",
     "text": [
      "1681155917.024114\n",
      "400\n"
     ]
    }
   ],
   "source": [
    "import time\n",
    "SELENIUM_URL = \"http://localhost:4444/wd/hub\"\n",
    "# driver = webdriver.Chrome()\n",
    "chrome_options = webdriver.ChromeOptions()\n",
    "driver = webdriver.Remote(command_executor=SELENIUM_URL,options=chrome_options)\n",
    "start_time = time.time()\n",
    "print(start_time)\n",
    "driver.get(\"http://google.com\")\n",
    "duration = 100\n",
    "while(driverIsAlive(driver)):\n",
    "    duration *= 2\n",
    "    time.sleep(duration)\n",
    "stop_time = time.time()\n",
    "print(duration)\n"
   ]
  },
  {
   "cell_type": "code",
   "execution_count": 109,
   "metadata": {},
   "outputs": [],
   "source": [
    "driver.quit()"
   ]
  },
  {
   "cell_type": "code",
   "execution_count": 111,
   "metadata": {},
   "outputs": [],
   "source": [
    "from Telecharge import Telecharge\n",
    "\n",
    "telecharge = Telecharge()"
   ]
  },
  {
   "cell_type": "code",
   "execution_count": 112,
   "metadata": {},
   "outputs": [
    {
     "ename": "AttributeError",
     "evalue": "'NoneType' object has no attribute 'find_elements'",
     "output_type": "error",
     "traceback": [
      "\u001b[0;31m---------------------------------------------------------------------------\u001b[0m",
      "\u001b[0;31mAttributeError\u001b[0m                            Traceback (most recent call last)",
      "Cell \u001b[0;32mIn[112], line 1\u001b[0m\n\u001b[0;32m----> 1\u001b[0m shows \u001b[39m=\u001b[39m telecharge\u001b[39m.\u001b[39;49mgetShows()\n",
      "File \u001b[0;32m~/Developer/broadWayLottery/Telecharge.py:91\u001b[0m, in \u001b[0;36mTelecharge.getShows\u001b[0;34m(self)\u001b[0m\n\u001b[1;32m     90\u001b[0m \u001b[39mdef\u001b[39;00m \u001b[39mgetShows\u001b[39m(\u001b[39mself\u001b[39m):\n\u001b[0;32m---> 91\u001b[0m     showDivs \u001b[39m=\u001b[39m \u001b[39mself\u001b[39;49m\u001b[39m.\u001b[39;49mgetShowDivs()\n\u001b[1;32m     92\u001b[0m     showList \u001b[39m=\u001b[39m showDivs\u001b[39m.\u001b[39mkeys()\n\u001b[1;32m     93\u001b[0m     \u001b[39mself\u001b[39m\u001b[39m.\u001b[39mdriver\u001b[39m.\u001b[39mquit()\n",
      "File \u001b[0;32m~/Developer/broadWayLottery/Telecharge.py:79\u001b[0m, in \u001b[0;36mTelecharge.getShowDivs\u001b[0;34m(self)\u001b[0m\n\u001b[1;32m     77\u001b[0m \u001b[39mself\u001b[39m\u001b[39m.\u001b[39msetup()\n\u001b[1;32m     78\u001b[0m shows \u001b[39m=\u001b[39m {}\n\u001b[0;32m---> 79\u001b[0m showDivs \u001b[39m=\u001b[39m \u001b[39mself\u001b[39;49m\u001b[39m.\u001b[39;49mdriver\u001b[39m.\u001b[39;49mfind_elements(By\u001b[39m.\u001b[39mXPATH,\u001b[39m\"\u001b[39m\u001b[39m//div[@class=\u001b[39m\u001b[39m'\u001b[39m\u001b[39mlottery_show st_style_page_text_border\u001b[39m\u001b[39m'\u001b[39m\u001b[39m]\u001b[39m\u001b[39m\"\u001b[39m)\n\u001b[1;32m     80\u001b[0m \u001b[39mfor\u001b[39;00m div \u001b[39min\u001b[39;00m showDivs:\n\u001b[1;32m     81\u001b[0m     title_block \u001b[39m=\u001b[39m div\u001b[39m.\u001b[39mfind_element(By\u001b[39m.\u001b[39mCLASS_NAME,\u001b[39m\"\u001b[39m\u001b[39mlottery_show_title\u001b[39m\u001b[39m\"\u001b[39m)\n",
      "\u001b[0;31mAttributeError\u001b[0m: 'NoneType' object has no attribute 'find_elements'"
     ]
    }
   ],
   "source": [
    "shows = telecharge.getShows()"
   ]
  },
  {
   "cell_type": "code",
   "execution_count": null,
   "metadata": {},
   "outputs": [],
   "source": []
  }
 ],
 "metadata": {
  "kernelspec": {
   "display_name": ".venv",
   "language": "python",
   "name": "python3"
  },
  "language_info": {
   "codemirror_mode": {
    "name": "ipython",
    "version": 3
   },
   "file_extension": ".py",
   "mimetype": "text/x-python",
   "name": "python",
   "nbconvert_exporter": "python",
   "pygments_lexer": "ipython3",
   "version": "3.11.2"
  },
  "orig_nbformat": 4
 },
 "nbformat": 4,
 "nbformat_minor": 2
}
