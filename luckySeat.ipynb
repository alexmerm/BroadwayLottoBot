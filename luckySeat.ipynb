{
 "cells": [
  {
   "cell_type": "code",
   "execution_count": 1,
   "metadata": {},
   "outputs": [],
   "source": [
    "from selenium import webdriver\n",
    "from selenium.webdriver.common.by import By\n",
    "from selenium.webdriver.common.action_chains import ActionChains\n",
    "from selenium.webdriver.support import expected_conditions as EC\n",
    "from selenium.webdriver.support.wait import WebDriverWait\n"
   ]
  },
  {
   "cell_type": "code",
   "execution_count": 2,
   "metadata": {},
   "outputs": [],
   "source": [
    "#NOTES:  Popup sometimes comes up w div class = \"dialog-main\""
   ]
  },
  {
   "cell_type": "code",
   "execution_count": 3,
   "metadata": {},
   "outputs": [],
   "source": [
    "START_PAGE = \"https://www.luckyseat.com/home\""
   ]
  },
  {
   "cell_type": "code",
   "execution_count": 4,
   "metadata": {},
   "outputs": [],
   "source": [
    "driver = webdriver.Chrome()"
   ]
  },
  {
   "cell_type": "code",
   "execution_count": 5,
   "metadata": {},
   "outputs": [],
   "source": [
    "driver.get(START_PAGE)\n"
   ]
  },
  {
   "cell_type": "code",
   "execution_count": 6,
   "metadata": {},
   "outputs": [],
   "source": [
    "#this will become method checkForPopUp\n",
    "# popup = WebDriverWait(driver,30).until(EC.visibility_of_element_located((By.TAG_NAME,\"app-sign-up-popup\")))\n",
    "# def get_close_button(popup):\n",
    "#     buttons = popup.find_elements(By.TAG_NAME,\"button\")\n",
    "#     for button in buttons:\n",
    "#         if(button.text == \"close\"):\n",
    "#             return button\n",
    "        \n",
    "# close_button = get_close_button(popup)\n",
    "# ActionChains(driver).move_to_element(close_button).click().perform()"
   ]
  },
  {
   "cell_type": "code",
   "execution_count": 7,
   "metadata": {},
   "outputs": [],
   "source": [
    "city_placeholder = WebDriverWait(driver,10).until(EC.visibility_of_element_located((By.XPATH,\"//mat-select[@placeholder='City']\")))"
   ]
  },
  {
   "cell_type": "code",
   "execution_count": 8,
   "metadata": {},
   "outputs": [
    {
     "data": {
      "text/plain": [
       "'City'"
      ]
     },
     "execution_count": 8,
     "metadata": {},
     "output_type": "execute_result"
    }
   ],
   "source": [
    "city_placeholder.text"
   ]
  },
  {
   "cell_type": "code",
   "execution_count": 9,
   "metadata": {},
   "outputs": [],
   "source": [
    "ActionChains(driver).move_to_element(city_placeholder).click(city_placeholder).perform()"
   ]
  },
  {
   "cell_type": "code",
   "execution_count": 10,
   "metadata": {},
   "outputs": [],
   "source": [
    "listbox = WebDriverWait(driver,10).until(EC.visibility_of_element_located((By.XPATH,\"//div[@role='listbox']\")))"
   ]
  },
  {
   "cell_type": "code",
   "execution_count": 11,
   "metadata": {},
   "outputs": [],
   "source": [
    "options = listbox.find_elements(By.TAG_NAME,\"mat-option\")\n"
   ]
  },
  {
   "cell_type": "code",
   "execution_count": 12,
   "metadata": {},
   "outputs": [],
   "source": [
    "for option in options:\n",
    "    # print(option.text, option.is_displayed())\n",
    "    if(option.text == \"New York City\"):\n",
    "        nyc = option"
   ]
  },
  {
   "cell_type": "code",
   "execution_count": 13,
   "metadata": {},
   "outputs": [],
   "source": [
    "ActionChains(driver).move_to_element(nyc).click().perform()"
   ]
  },
  {
   "cell_type": "code",
   "execution_count": 14,
   "metadata": {},
   "outputs": [],
   "source": [
    "#get shows\n",
    "shows = {}\n",
    "wrapper = driver.find_element(By.XPATH,\"//div[@class='wrapper2']\")\n",
    "showDivs = wrapper.find_elements(By.XPATH ,\"//div[@class='imageWrapper ng-star-inserted']\")\n",
    "len(showDivs)\n",
    "for show in showDivs:\n",
    "    titleEl = show.find_element(By.CLASS_NAME, 'showTitle')\n",
    "    title = titleEl.get_attribute('innerHTML')\n",
    "    shows[title] = show"
   ]
  },
  {
   "cell_type": "code",
   "execution_count": 15,
   "metadata": {},
   "outputs": [
    {
     "data": {
      "text/plain": [
       "'Funny Girl'"
      ]
     },
     "execution_count": 15,
     "metadata": {},
     "output_type": "execute_result"
    }
   ],
   "source": [
    "show = shows['Funny Girl']\n",
    "show.find_element(By.CLASS_NAME, 'showTitle').get_attribute('innerHTML')"
   ]
  },
  {
   "cell_type": "code",
   "execution_count": 16,
   "metadata": {},
   "outputs": [
    {
     "data": {
      "text/plain": [
       "False"
      ]
     },
     "execution_count": 16,
     "metadata": {},
     "output_type": "execute_result"
    }
   ],
   "source": [
    "#Go to show page\n",
    "ActionChains(driver).move_to_element(show).click().perform()\n",
    "WebDriverWait(driver,10).until_not(EC.url_to_be(\"https://www.luckyseat.com/home\"))"
   ]
  },
  {
   "cell_type": "code",
   "execution_count": 17,
   "metadata": {},
   "outputs": [
    {
     "data": {
      "text/plain": [
       "False"
      ]
     },
     "execution_count": 17,
     "metadata": {},
     "output_type": "execute_result"
    }
   ],
   "source": [
    "WebDriverWait(driver,10).until_not(EC.url_to_be(\"https://www.luckyseat.com/home\"))"
   ]
  },
  {
   "cell_type": "code",
   "execution_count": 18,
   "metadata": {},
   "outputs": [],
   "source": [
    "loginButton = WebDriverWait(driver,10).until(EC.visibility_of_element_located((By.XPATH,\"//button[@class='mat-focus-indicator LogInButton mat-raised-button mat-button-base mat-primary']\")))"
   ]
  },
  {
   "cell_type": "code",
   "execution_count": 19,
   "metadata": {},
   "outputs": [],
   "source": [
    "#TODO: make this generic\n",
    "\n"
   ]
  },
  {
   "cell_type": "code",
   "execution_count": 20,
   "metadata": {},
   "outputs": [
    {
     "data": {
      "text/plain": [
       "True"
      ]
     },
     "execution_count": 20,
     "metadata": {},
     "output_type": "execute_result"
    }
   ],
   "source": [
    "loginButton.is_displayed()"
   ]
  },
  {
   "cell_type": "code",
   "execution_count": 21,
   "metadata": {},
   "outputs": [],
   "source": [
    "#TODO : create helper script that scrolls into view and clicks\n",
    "driver.execute_script(\"arguments[0].scrollIntoView();\",loginButton)\n",
    "driver.execute_script(\"window.scrollBy(0,-100)\", \"\")\n",
    "WebDriverWait(driver,10).until(EC.visibility_of(loginButton))\n",
    "ActionChains(driver).move_to_element(loginButton).click().perform()\n"
   ]
  },
  {
   "cell_type": "code",
   "execution_count": 22,
   "metadata": {},
   "outputs": [
    {
     "data": {
      "text/plain": [
       "True"
      ]
     },
     "execution_count": 22,
     "metadata": {},
     "output_type": "execute_result"
    }
   ],
   "source": [
    "#Login, TODO , maybe do this first\n",
    "WebDriverWait(driver,10).until(EC.url_contains(\"https://www.luckyseat.com/account/login\"))\n"
   ]
  },
  {
   "cell_type": "code",
   "execution_count": 23,
   "metadata": {},
   "outputs": [],
   "source": [
    "EMAIL = \"alex.kaish@gmail.com\"\n",
    "PASSWORD = \"C7EURBZ8htwfmG*Zsq8\"\n"
   ]
  },
  {
   "cell_type": "code",
   "execution_count": 24,
   "metadata": {},
   "outputs": [],
   "source": [
    "email_field = WebDriverWait(driver,10).until(EC.presence_of_element_located((By.XPATH,\"//input[@name='email']\")))"
   ]
  },
  {
   "cell_type": "code",
   "execution_count": 25,
   "metadata": {},
   "outputs": [],
   "source": [
    "ActionChains(driver).move_to_element(email_field).click().send_keys(EMAIL).perform()"
   ]
  },
  {
   "cell_type": "code",
   "execution_count": 26,
   "metadata": {},
   "outputs": [],
   "source": [
    "password_field = WebDriverWait(driver,10).until(EC.presence_of_element_located((By.XPATH,\"//input[@name='password']\")))"
   ]
  },
  {
   "cell_type": "code",
   "execution_count": 27,
   "metadata": {},
   "outputs": [],
   "source": [
    "ActionChains(driver).move_to_element(password_field).click().send_keys(PASSWORD).perform()"
   ]
  },
  {
   "cell_type": "code",
   "execution_count": 28,
   "metadata": {},
   "outputs": [],
   "source": [
    "loginButton = driver.find_element(By.XPATH,\"//button[@type='submit']\")\n",
    "if(not loginButton.is_enabled()):\n",
    "   print(\"Error entering password\")\n",
    "ActionChains(driver).move_to_element(loginButton).click().perform()\n"
   ]
  },
  {
   "cell_type": "code",
   "execution_count": 29,
   "metadata": {},
   "outputs": [
    {
     "data": {
      "text/plain": [
       "False"
      ]
     },
     "execution_count": 29,
     "metadata": {},
     "output_type": "execute_result"
    }
   ],
   "source": [
    "#Back to page\n",
    "WebDriverWait(driver,10).until_not(EC.url_contains(\"https://www.luckyseat.com/account/login\"))"
   ]
  },
  {
   "cell_type": "code",
   "execution_count": 30,
   "metadata": {},
   "outputs": [],
   "source": [
    "#We're not going to go through the perfomances for rn, rn we will just select all end enter\n",
    "select_all = WebDriverWait(driver,10).until(EC.presence_of_element_located((By.XPATH,\"//span[@class='selectAll']\")))"
   ]
  },
  {
   "cell_type": "code",
   "execution_count": 31,
   "metadata": {},
   "outputs": [],
   "source": [
    "ActionChains(driver).move_to_element(select_all).click().perform()"
   ]
  },
  {
   "cell_type": "code",
   "execution_count": 32,
   "metadata": {},
   "outputs": [],
   "source": [
    "NUMTICKETS = 2\n"
   ]
  },
  {
   "cell_type": "code",
   "execution_count": 33,
   "metadata": {},
   "outputs": [],
   "source": [
    "ticketsCount = driver.find_element(By.CLASS_NAME,\"ticketsCount\")\n"
   ]
  },
  {
   "cell_type": "code",
   "execution_count": 34,
   "metadata": {},
   "outputs": [
    {
     "data": {
      "text/plain": [
       "0"
      ]
     },
     "execution_count": 34,
     "metadata": {},
     "output_type": "execute_result"
    }
   ],
   "source": [
    "int(ticketsCount.text)"
   ]
  },
  {
   "cell_type": "code",
   "execution_count": 35,
   "metadata": {},
   "outputs": [],
   "source": [
    "addButton = driver.find_element(By.XPATH,\"//mat-icon[text()='add_circle_outline']\")\n",
    "driver.execute_script(\"arguments[0].scrollIntoView();\",addButton)\n",
    "driver.execute_script(\"window.scrollBy(0,-100)\", \"\")\n"
   ]
  },
  {
   "cell_type": "code",
   "execution_count": null,
   "metadata": {},
   "outputs": [],
   "source": []
  },
  {
   "cell_type": "code",
   "execution_count": 36,
   "metadata": {},
   "outputs": [],
   "source": [
    "while(int(ticketsCount.text) != NUMTICKETS):\n",
    "    ActionChains(driver).move_to_element(addButton).click().perform()"
   ]
  },
  {
   "cell_type": "code",
   "execution_count": 40,
   "metadata": {},
   "outputs": [
    {
     "name": "stdout",
     "output_type": "stream",
     "text": [
      "\n",
      "\n",
      "\n"
     ]
    }
   ],
   "source": [
    "#TIME FOR CAPCHA\n",
    "frames = driver.find_elements(By.TAG_NAME, 'iframe')\n",
    "for frame in frames:\n",
    "    print(frame.text)"
   ]
  },
  {
   "cell_type": "code",
   "execution_count": null,
   "metadata": {},
   "outputs": [],
   "source": [
    "driver.find_element(By.XPATH,\"//input[@id='recaptcha-token']\")\n"
   ]
  }
 ],
 "metadata": {
  "kernelspec": {
   "display_name": "Python 3",
   "language": "python",
   "name": "python3"
  },
  "language_info": {
   "codemirror_mode": {
    "name": "ipython",
    "version": 3
   },
   "file_extension": ".py",
   "mimetype": "text/x-python",
   "name": "python",
   "nbconvert_exporter": "python",
   "pygments_lexer": "ipython3",
   "version": "3.11.2"
  },
  "orig_nbformat": 4
 },
 "nbformat": 4,
 "nbformat_minor": 2
}
